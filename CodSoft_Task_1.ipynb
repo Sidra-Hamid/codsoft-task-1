{
 "cells": [
  {
   "cell_type": "code",
   "execution_count": 1,
   "id": "6c0e53fd",
   "metadata": {},
   "outputs": [],
   "source": [
    "tasks = []"
   ]
  },
  {
   "cell_type": "code",
   "execution_count": 2,
   "id": "0b9f9ecb",
   "metadata": {},
   "outputs": [],
   "source": [
    "def add_task(task):\n",
    "    tasks.append(task)\n",
    "    print(\"Task added.\")"
   ]
  },
  {
   "cell_type": "code",
   "execution_count": 3,
   "id": "b0dcb31d",
   "metadata": {},
   "outputs": [],
   "source": [
    "def delete_task(task_index):\n",
    "    if 1 <= task_index <= len(tasks):\n",
    "        del tasks[task_index - 1]\n",
    "        print(\"Task deleted.\")\n",
    "    else:\n",
    "        print(\"Invalid task index.\")"
   ]
  },
  {
   "cell_type": "code",
   "execution_count": 4,
   "id": "8512d73e",
   "metadata": {},
   "outputs": [],
   "source": [
    "def display_tasks():\n",
    "    if not tasks:\n",
    "        print(\"No tasks in the to-do list.\")\n",
    "    else:\n",
    "        print(\"To-Do List:\")\n",
    "        for i, task in enumerate(tasks, start=1):\n",
    "            print(f\"{i}. {task}\")"
   ]
  },
  {
   "cell_type": "code",
   "execution_count": 5,
   "id": "4a7e1857",
   "metadata": {},
   "outputs": [],
   "source": [
    "def display_menu():\n",
    "    print(\"\\nOptions:\")\n",
    "    print(\"1. Add Task\")\n",
    "    print(\"2. Delete Task\")\n",
    "    print(\"3. View Tasks\")\n",
    "    print(\"4. Exit\")"
   ]
  },
  {
   "cell_type": "code",
   "execution_count": 6,
   "id": "834dffbb",
   "metadata": {},
   "outputs": [
    {
     "name": "stdout",
     "output_type": "stream",
     "text": [
      "\n",
      "Options:\n",
      "1. Add Task\n",
      "2. Delete Task\n",
      "3. View Tasks\n",
      "4. Exit\n",
      "Enter your choice: 3\n",
      "No tasks in the to-do list.\n",
      "\n",
      "Options:\n",
      "1. Add Task\n",
      "2. Delete Task\n",
      "3. View Tasks\n",
      "4. Exit\n",
      "Enter your choice: 1\n",
      "Enter the task: coding assignment\n",
      "Task added.\n",
      "\n",
      "Options:\n",
      "1. Add Task\n",
      "2. Delete Task\n",
      "3. View Tasks\n",
      "4. Exit\n",
      "Enter your choice: 1\n",
      "Enter the task: buy groceries\n",
      "Task added.\n",
      "\n",
      "Options:\n",
      "1. Add Task\n",
      "2. Delete Task\n",
      "3. View Tasks\n",
      "4. Exit\n",
      "Enter your choice: 3\n",
      "To-Do List:\n",
      "1. coding assignment\n",
      "2. buy groceries\n",
      "\n",
      "Options:\n",
      "1. Add Task\n",
      "2. Delete Task\n",
      "3. View Tasks\n",
      "4. Exit\n",
      "Enter your choice: 2\n",
      "Enter the index of the task to delete: 1\n",
      "Task deleted.\n",
      "\n",
      "Options:\n",
      "1. Add Task\n",
      "2. Delete Task\n",
      "3. View Tasks\n",
      "4. Exit\n",
      "Enter your choice: 3\n",
      "To-Do List:\n",
      "1. buy groceries\n",
      "\n",
      "Options:\n",
      "1. Add Task\n",
      "2. Delete Task\n",
      "3. View Tasks\n",
      "4. Exit\n",
      "Enter your choice: 4\n",
      "Exiting...\n"
     ]
    }
   ],
   "source": [
    "while True:\n",
    "    display_menu()\n",
    "    choice = input(\"Enter your choice: \")\n",
    "\n",
    "    if choice == \"1\":\n",
    "        task = input(\"Enter the task: \")\n",
    "        add_task(task)\n",
    "    elif choice == \"2\":\n",
    "        index = int(input(\"Enter the index of the task to delete: \"))\n",
    "        delete_task(index)\n",
    "    elif choice == \"3\":\n",
    "        display_tasks()\n",
    "    elif choice == \"4\":\n",
    "        print(\"Exiting...\")\n",
    "        break\n",
    "    else:\n",
    "        print(\"Invalid choice. Please try again.\")"
   ]
  },
  {
   "cell_type": "code",
   "execution_count": null,
   "id": "e665e533",
   "metadata": {},
   "outputs": [],
   "source": []
  }
 ],
 "metadata": {
  "kernelspec": {
   "display_name": "Python 3 (ipykernel)",
   "language": "python",
   "name": "python3"
  },
  "language_info": {
   "codemirror_mode": {
    "name": "ipython",
    "version": 3
   },
   "file_extension": ".py",
   "mimetype": "text/x-python",
   "name": "python",
   "nbconvert_exporter": "python",
   "pygments_lexer": "ipython3",
   "version": "3.11.5"
  }
 },
 "nbformat": 4,
 "nbformat_minor": 5
}
